{
 "cells": [
  {
   "cell_type": "code",
   "execution_count": null,
   "id": "1c755625",
   "metadata": {},
   "outputs": [],
   "source": [
    "import requests\n",
    "import json\n",
    "from tqdm.notebook import tqdm\n",
    "\n",
    "from pathlib import Path\n",
    "base_dir = Path.cwd()\n",
    "\n",
    "def ollama_completion(prompt, model=\"llama3.1:latest\", host=\"http://localhost:11434\"):\n",
    "     url = f\"{host}/api/generate\"\n",
    "     payload = {\n",
    "        \"model\": model,\n",
    "        \"prompt\": prompt,\n",
    "        \"stream\": False\n",
    "     }\n",
    "     response = requests.post(url, json=payload)\n",
    "     return response.json()['response']\n",
    "\n",
    "with open(base_dir / \"process_chains.csv\") as f:\n",
    "    file_text= f.read()\n",
    "\n",
    "commands=[row.split(',')[-1] for row in file_text.splitlines()]\n",
    "\n",
    "prompt_template=\"\"\" This prompt includes the command from a PID. \\n\n",
    "                    Please analyize this command and come up with a simple classification of the command (what is it doing or what is it for). \\n\n",
    "                    Return only a short string classification of the command. No additional reasoning or explanation should be provided. \\n\n",
    "                    If you cannot classify the command or if a command is not provided, return only the string 'unknown'. \\n\n",
    "                    The command is: \"\"\"\n",
    "\n"
   ]
  },
  {
   "cell_type": "code",
   "execution_count": null,
   "id": "546ceb6f",
   "metadata": {},
   "outputs": [],
   "source": [
    "### Generate initial PID classifications\n",
    "responses=[]\n",
    "for command in tqdm(commands[1:]):\n",
    "    prompt=prompt_template+command\n",
    "    response=(\"\\\"\"+ollama_completion(prompt)+\"\\\"\").replace('\"\"','\"')\n",
    "    responses.append((response,command))\n",
    "\n",
    "    with open(base_dir / \"command_classifications.txt\",\"a\") as f:\n",
    "        f.write(f\"{response},{command}\\n\")\n"
   ]
  },
  {
   "cell_type": "code",
   "execution_count": null,
   "id": "b3641c91",
   "metadata": {},
   "outputs": [],
   "source": [
    "### Retrieve initial PID classifications \n",
    "with open(base_dir / \"command_classifications.txt\") as f:\n",
    "    file_text= f.read()\n",
    "\n",
    "classifications=[row.split(',')[0] for row in file_text.splitlines()]"
   ]
  },
  {
   "cell_type": "code",
   "execution_count": null,
   "id": "9f046b20",
   "metadata": {},
   "outputs": [],
   "source": [
    "### Simplify PID classifications with additional ollama call\n",
    "\n",
    "prompt_template=\"\"\"this prompt includes a series of classifications associated with PID commands. \\n\n",
    "                   Please analyze the classifications and come up with a more concise list of unique classifications. \\n\n",
    "                   Respond with ***ONLY*** a list of unique classifications, separated by commas.\\n\n",
    "                   You must not include any additional text, reasoning or explanation. \\n\n",
    "                   The classifications are: \"\"\"\n",
    "\n",
    "prompt=prompt_template+','.join(classifications)\n",
    "\n",
    "simplfied_classifications=ollama_completion(prompt)\n",
    "\n",
    "simplified_classifications_list=[cls.strip() for cls in simplfied_classifications.split(',')]"
   ]
  },
  {
   "cell_type": "code",
   "execution_count": null,
   "id": "75eaf223",
   "metadata": {},
   "outputs": [
    {
     "data": {
      "application/vnd.jupyter.widget-view+json": {
       "model_id": "d08589ec570a495cab939bdbd6a4d6de",
       "version_major": 2,
       "version_minor": 0
      },
      "text/plain": [
       "  0%|          | 0/734 [00:00<?, ?it/s]"
      ]
     },
     "metadata": {},
     "output_type": "display_data"
    }
   ],
   "source": [
    "responses=[]\n",
    "for command in tqdm(commands[1:]):\n",
    "\n",
    "    prompt=\"\"\"This prompt includes the command from a PID and a list of possible classifications. \\n\n",
    "                    Please analyize the command and assign it to one of the classifications from the list. \\n\n",
    "                    Return only the classification that best fits the command. You must provide no additional text, reasoning or explanation. \\n\n",
    "                    If you cannot classify the command or if a command is not provided, return only the string 'unknown'. \\n\n",
    "                    The command is: \"\"\" + command + \"\"\" \\n\n",
    "                    The classifications are: \"\"\" + ','.join(simplified_classifications_list) \n",
    "                    \n",
    "    response=(\"\\\"\"+ollama_completion(prompt)+\"\\\"\").replace('\"\"','\"')\n",
    "    responses.append((response,command))\n",
    "    \n",
    "    with open(base_dir / \"command_normalized_classifications.txt\",\"a\") as f:\n",
    "        f.write(f\"{response},{command}\\n\")"
   ]
  },
  {
   "cell_type": "code",
   "execution_count": null,
   "id": "58810696",
   "metadata": {},
   "outputs": [],
   "source": []
  }
 ],
 "metadata": {
  "kernelspec": {
   "display_name": "venv",
   "language": "python",
   "name": "python3"
  },
  "language_info": {
   "codemirror_mode": {
    "name": "ipython",
    "version": 3
   },
   "file_extension": ".py",
   "mimetype": "text/x-python",
   "name": "python",
   "nbconvert_exporter": "python",
   "pygments_lexer": "ipython3",
   "version": "3.10.6"
  }
 },
 "nbformat": 4,
 "nbformat_minor": 5
}
